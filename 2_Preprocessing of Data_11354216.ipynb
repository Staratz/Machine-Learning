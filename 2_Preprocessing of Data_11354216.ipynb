{
 "cells": [
  {
   "cell_type": "markdown",
   "metadata": {},
   "source": [
    "# 2. Preprocessing The Data"
   ]
  },
  {
   "cell_type": "markdown",
   "metadata": {},
   "source": [
    "After scraping tweets and gathering them in the same repository, I gathered them all in one large Dataframe. Once successfully imported, the strings in the columns were cleaned."
   ]
  },
  {
   "cell_type": "code",
   "execution_count": 2,
   "metadata": {},
   "outputs": [],
   "source": [
    "import pandas as pd\n",
    "import glob, os\n",
    "import numpy as np"
   ]
  },
  {
   "cell_type": "code",
   "execution_count": 3,
   "metadata": {},
   "outputs": [
    {
     "name": "stderr",
     "output_type": "stream",
     "text": [
      "/Users/alex/opt/anaconda3/lib/python3.7/site-packages/ipykernel_launcher.py:9: FutureWarning: Method .as_matrix will be removed in a future version. Use .values instead.\n",
      "  if __name__ == '__main__':\n"
     ]
    },
    {
     "name": "stdout",
     "output_type": "stream",
     "text": [
      "The total amount of tweets utilised in this project are: 24970 tweets from 13 to 22 May 2020.\n"
     ]
    },
    {
     "data": {
      "text/html": [
       "<div>\n",
       "<style scoped>\n",
       "    .dataframe tbody tr th:only-of-type {\n",
       "        vertical-align: middle;\n",
       "    }\n",
       "\n",
       "    .dataframe tbody tr th {\n",
       "        vertical-align: top;\n",
       "    }\n",
       "\n",
       "    .dataframe thead th {\n",
       "        text-align: right;\n",
       "    }\n",
       "</style>\n",
       "<table border=\"1\" class=\"dataframe\">\n",
       "  <thead>\n",
       "    <tr style=\"text-align: right;\">\n",
       "      <th></th>\n",
       "      <th>Date</th>\n",
       "      <th>tweet</th>\n",
       "    </tr>\n",
       "  </thead>\n",
       "  <tbody>\n",
       "    <tr>\n",
       "      <td>0</td>\n",
       "      <td>2020-05-14</td>\n",
       "      <td>night's Be Our Guest Podcast Community Check-i...</td>\n",
       "    </tr>\n",
       "    <tr>\n",
       "      <td>1</td>\n",
       "      <td>2020-05-14</td>\n",
       "      <td>aolini If someone could make the movie the Era...</td>\n",
       "    </tr>\n",
       "    <tr>\n",
       "      <td>2</td>\n",
       "      <td>2020-05-14</td>\n",
       "      <td>took this shot when my family were on Soarin. ...</td>\n",
       "    </tr>\n",
       "    <tr>\n",
       "      <td>3</td>\n",
       "      <td>2020-05-14</td>\n",
       "      <td>o you wanna build a snowman? \\xe2\\x9b\\x84\\xef\\...</td>\n",
       "    </tr>\n",
       "    <tr>\n",
       "      <td>4</td>\n",
       "      <td>2020-05-14</td>\n",
       "      <td>at are you drawing Luz?\\nThe Owl House - Disne...</td>\n",
       "    </tr>\n",
       "  </tbody>\n",
       "</table>\n",
       "</div>"
      ],
      "text/plain": [
       "         Date                                              tweet\n",
       "0  2020-05-14  night's Be Our Guest Podcast Community Check-i...\n",
       "1  2020-05-14  aolini If someone could make the movie the Era...\n",
       "2  2020-05-14  took this shot when my family were on Soarin. ...\n",
       "3  2020-05-14  o you wanna build a snowman? \\xe2\\x9b\\x84\\xef\\...\n",
       "4  2020-05-14  at are you drawing Luz?\\nThe Owl House - Disne..."
      ]
     },
     "execution_count": 3,
     "metadata": {},
     "output_type": "execute_result"
    }
   ],
   "source": [
    "# Create a path to repository, merge them into one large dataframe\n",
    "path = \"/Users/alex/Documents/UvA/Masters/BigData/Big Data Project/twitter_metadata/Disney\"\n",
    "allFiles = glob.glob(os.path.join(path,\"*.csv\"))\n",
    "\n",
    "\n",
    "np_array_list = []\n",
    "for file_ in allFiles:\n",
    "    df = pd.read_csv(file_,index_col=None, header=0)\n",
    "    np_array_list.append(df.as_matrix())\n",
    "\n",
    "comb_np_array = np.vstack(np_array_list)\n",
    "disney_alltweets = pd.DataFrame(comb_np_array)\n",
    "\n",
    "disney_alltweets.columns = [\"Date\",\"tweet\"]\n",
    "\n",
    "disney_alltweets['tweet'] = disney_alltweets['tweet'].str.slice(start=2) #clean tweets\n",
    "disney_alltweets['Date'] = disney_alltweets['Date'].str.slice(0,10) #clean dates, only keep year-month-day\n",
    "disney_alltweets.to_csv (r'/Users/alex/Documents/UvA/Masters/BigData/Big Data Project/twitter_metadata/Disney/export_dataframe.csv', index = False, header=True) #safe the data as .csv\n",
    "\n",
    "print('The total amount of tweets utilised in this project are:',len(disney_alltweets), 'tweets from 13 to 22 May 2020.')\n",
    "disney_alltweets.head(5)"
   ]
  }
 ],
 "metadata": {
  "kernelspec": {
   "display_name": "Python 3",
   "language": "python",
   "name": "python3"
  },
  "language_info": {
   "codemirror_mode": {
    "name": "ipython",
    "version": 3
   },
   "file_extension": ".py",
   "mimetype": "text/x-python",
   "name": "python",
   "nbconvert_exporter": "python",
   "pygments_lexer": "ipython3",
   "version": "3.7.4"
  }
 },
 "nbformat": 4,
 "nbformat_minor": 2
}
